{
  "nbformat": 4,
  "nbformat_minor": 0,
  "metadata": {
    "colab": {
      "name": "Taller5",
      "provenance": [],
      "collapsed_sections": [
        "Osvn1Ohy9g9C"
      ],
      "include_colab_link": true
    },
    "kernelspec": {
      "name": "python3",
      "display_name": "Python 3"
    },
    "language_info": {
      "name": "python"
    }
  },
  "cells": [
    {
      "cell_type": "markdown",
      "metadata": {
        "id": "view-in-github",
        "colab_type": "text"
      },
      "source": [
        "<a href=\"https://colab.research.google.com/github/bryanMontoya/mlTalleres/blob/main/Taller5.ipynb\" target=\"_parent\"><img src=\"https://colab.research.google.com/assets/colab-badge.svg\" alt=\"Open In Colab\"/></a>"
      ]
    },
    {
      "cell_type": "markdown",
      "metadata": {
        "id": "7RSNvYrD9uNt"
      },
      "source": [
        "**Taller 5.**\n",
        "\n",
        "\n",
        "*   Johjan Stiven Puerta Castaño.\n",
        "*   Brayan Montoya Osorio.\n",
        "\n"
      ]
    },
    {
      "cell_type": "markdown",
      "metadata": {
        "id": "Osvn1Ohy9g9C"
      },
      "source": [
        "# **Capítulo 7: Punto 1**"
      ]
    },
    {
      "cell_type": "code",
      "metadata": {
        "id": "q9hh8sbI9rEU"
      },
      "source": [
        "import pandas as pd\n",
        "import numpy as np\n",
        "import matplotlib.pyplot as plt\n",
        "\n",
        "from sklearn.model_selection import train_test_split, GridSearchCV, cross_val_score \n",
        "from sklearn.preprocessing import StandardScaler\n",
        "from sklearn.svm import SVC\n",
        "from xgboost.sklearn import XGBClassifier\n",
        "from sklearn.neighbors import KNeighborsClassifier\n",
        "from sklearn.linear_model import LogisticRegression\n",
        "from sklearn.tree import DecisionTreeClassifier\n",
        "from sklearn.ensemble import RandomForestClassifier\n",
        "from sklearn.metrics import classification_report, confusion_matrix, plot_confusion_matrix, roc_curve, roc_auc_score\n",
        "from sklearn.decomposition import PCA"
      ],
      "execution_count": null,
      "outputs": []
    },
    {
      "cell_type": "code",
      "metadata": {
        "colab": {
          "base_uri": "https://localhost:8080/",
          "height": 363
        },
        "id": "8JXZWGGp-oU3",
        "outputId": "23be5f6c-eadf-4844-9d2f-bc1e52c4d10e"
      },
      "source": [
        "col_names = ['pregnant', 'glucose', 'bp','skin', 'insulin', 'bmi', 'pedigree', 'age', 'label']\n",
        "path = 'drive/MyDrive/data/diabetes.csv'\n",
        "pima = pd.read_csv(path)\n",
        "pima = pima.set_axis(col_names, axis = 1)\n",
        "pima.head(10)"
      ],
      "execution_count": null,
      "outputs": [
        {
          "output_type": "execute_result",
          "data": {
            "text/html": [
              "<div>\n",
              "<style scoped>\n",
              "    .dataframe tbody tr th:only-of-type {\n",
              "        vertical-align: middle;\n",
              "    }\n",
              "\n",
              "    .dataframe tbody tr th {\n",
              "        vertical-align: top;\n",
              "    }\n",
              "\n",
              "    .dataframe thead th {\n",
              "        text-align: right;\n",
              "    }\n",
              "</style>\n",
              "<table border=\"1\" class=\"dataframe\">\n",
              "  <thead>\n",
              "    <tr style=\"text-align: right;\">\n",
              "      <th></th>\n",
              "      <th>pregnant</th>\n",
              "      <th>glucose</th>\n",
              "      <th>bp</th>\n",
              "      <th>skin</th>\n",
              "      <th>insulin</th>\n",
              "      <th>bmi</th>\n",
              "      <th>pedigree</th>\n",
              "      <th>age</th>\n",
              "      <th>label</th>\n",
              "    </tr>\n",
              "  </thead>\n",
              "  <tbody>\n",
              "    <tr>\n",
              "      <th>0</th>\n",
              "      <td>6</td>\n",
              "      <td>148</td>\n",
              "      <td>72</td>\n",
              "      <td>35</td>\n",
              "      <td>0</td>\n",
              "      <td>33.6</td>\n",
              "      <td>0.627</td>\n",
              "      <td>50</td>\n",
              "      <td>1</td>\n",
              "    </tr>\n",
              "    <tr>\n",
              "      <th>1</th>\n",
              "      <td>1</td>\n",
              "      <td>85</td>\n",
              "      <td>66</td>\n",
              "      <td>29</td>\n",
              "      <td>0</td>\n",
              "      <td>26.6</td>\n",
              "      <td>0.351</td>\n",
              "      <td>31</td>\n",
              "      <td>0</td>\n",
              "    </tr>\n",
              "    <tr>\n",
              "      <th>2</th>\n",
              "      <td>8</td>\n",
              "      <td>183</td>\n",
              "      <td>64</td>\n",
              "      <td>0</td>\n",
              "      <td>0</td>\n",
              "      <td>23.3</td>\n",
              "      <td>0.672</td>\n",
              "      <td>32</td>\n",
              "      <td>1</td>\n",
              "    </tr>\n",
              "    <tr>\n",
              "      <th>3</th>\n",
              "      <td>1</td>\n",
              "      <td>89</td>\n",
              "      <td>66</td>\n",
              "      <td>23</td>\n",
              "      <td>94</td>\n",
              "      <td>28.1</td>\n",
              "      <td>0.167</td>\n",
              "      <td>21</td>\n",
              "      <td>0</td>\n",
              "    </tr>\n",
              "    <tr>\n",
              "      <th>4</th>\n",
              "      <td>0</td>\n",
              "      <td>137</td>\n",
              "      <td>40</td>\n",
              "      <td>35</td>\n",
              "      <td>168</td>\n",
              "      <td>43.1</td>\n",
              "      <td>2.288</td>\n",
              "      <td>33</td>\n",
              "      <td>1</td>\n",
              "    </tr>\n",
              "    <tr>\n",
              "      <th>5</th>\n",
              "      <td>5</td>\n",
              "      <td>116</td>\n",
              "      <td>74</td>\n",
              "      <td>0</td>\n",
              "      <td>0</td>\n",
              "      <td>25.6</td>\n",
              "      <td>0.201</td>\n",
              "      <td>30</td>\n",
              "      <td>0</td>\n",
              "    </tr>\n",
              "    <tr>\n",
              "      <th>6</th>\n",
              "      <td>3</td>\n",
              "      <td>78</td>\n",
              "      <td>50</td>\n",
              "      <td>32</td>\n",
              "      <td>88</td>\n",
              "      <td>31.0</td>\n",
              "      <td>0.248</td>\n",
              "      <td>26</td>\n",
              "      <td>1</td>\n",
              "    </tr>\n",
              "    <tr>\n",
              "      <th>7</th>\n",
              "      <td>10</td>\n",
              "      <td>115</td>\n",
              "      <td>0</td>\n",
              "      <td>0</td>\n",
              "      <td>0</td>\n",
              "      <td>35.3</td>\n",
              "      <td>0.134</td>\n",
              "      <td>29</td>\n",
              "      <td>0</td>\n",
              "    </tr>\n",
              "    <tr>\n",
              "      <th>8</th>\n",
              "      <td>2</td>\n",
              "      <td>197</td>\n",
              "      <td>70</td>\n",
              "      <td>45</td>\n",
              "      <td>543</td>\n",
              "      <td>30.5</td>\n",
              "      <td>0.158</td>\n",
              "      <td>53</td>\n",
              "      <td>1</td>\n",
              "    </tr>\n",
              "    <tr>\n",
              "      <th>9</th>\n",
              "      <td>8</td>\n",
              "      <td>125</td>\n",
              "      <td>96</td>\n",
              "      <td>0</td>\n",
              "      <td>0</td>\n",
              "      <td>0.0</td>\n",
              "      <td>0.232</td>\n",
              "      <td>54</td>\n",
              "      <td>1</td>\n",
              "    </tr>\n",
              "  </tbody>\n",
              "</table>\n",
              "</div>"
            ],
            "text/plain": [
              "   pregnant  glucose  bp  skin  insulin   bmi  pedigree  age  label\n",
              "0         6      148  72    35        0  33.6     0.627   50      1\n",
              "1         1       85  66    29        0  26.6     0.351   31      0\n",
              "2         8      183  64     0        0  23.3     0.672   32      1\n",
              "3         1       89  66    23       94  28.1     0.167   21      0\n",
              "4         0      137  40    35      168  43.1     2.288   33      1\n",
              "5         5      116  74     0        0  25.6     0.201   30      0\n",
              "6         3       78  50    32       88  31.0     0.248   26      1\n",
              "7        10      115   0     0        0  35.3     0.134   29      0\n",
              "8         2      197  70    45      543  30.5     0.158   53      1\n",
              "9         8      125  96     0        0   0.0     0.232   54      1"
            ]
          },
          "metadata": {},
          "execution_count": 261
        }
      ]
    },
    {
      "cell_type": "code",
      "metadata": {
        "colab": {
          "base_uri": "https://localhost:8080/"
        },
        "id": "4_apWDftB4f0",
        "outputId": "c126e372-4b8b-4786-eaf5-2ad61e8170f9"
      },
      "source": [
        "X = pima.drop('label', axis = 1)\n",
        "y = pima.label\n",
        "print(X.shape)"
      ],
      "execution_count": null,
      "outputs": [
        {
          "output_type": "stream",
          "name": "stdout",
          "text": [
            "(768, 8)\n"
          ]
        }
      ]
    },
    {
      "cell_type": "code",
      "metadata": {
        "id": "_Dj-UBvzB7Y0"
      },
      "source": [
        "X_train, X_test, y_train, y_test = train_test_split(X, y, test_size = 0.25, random_state = 4)                                                  \n",
        "scaler = StandardScaler()\n",
        "X_train = scaler.fit_transform(X_train)\n",
        "X_test = scaler.transform(X_test)"
      ],
      "execution_count": null,
      "outputs": []
    },
    {
      "cell_type": "markdown",
      "metadata": {
        "id": "E3iaT3_AERr9"
      },
      "source": [
        "Se procede a entrenar los modelos de KNN, RL, DT, RF, XGB y SVM con el dataset de diabetes, encontrando los respectivos parámetros para cada modelo."
      ]
    },
    {
      "cell_type": "markdown",
      "metadata": {
        "id": "O6H0MU5iCFoJ"
      },
      "source": [
        "**KNN**"
      ]
    },
    {
      "cell_type": "markdown",
      "metadata": {
        "id": "1za8L8OKDII_"
      },
      "source": [
        "Se realiza validación cruzada para encontrar los mejores parámetros para el modelo de KNN, en este caso solo se procede a encontrar el número de vecinos óptimos **K**, como se ve a continuación:"
      ]
    },
    {
      "cell_type": "code",
      "metadata": {
        "colab": {
          "base_uri": "https://localhost:8080/"
        },
        "id": "0YajE60WDHuX",
        "outputId": "31bf8217-aaa4-4f7e-a42f-e73c63ac6259"
      },
      "source": [
        "#Se da un rango entre 3 y 30 vecinos para probar.\n",
        "parameters = {'n_neighbors' : range(3,30)} \n",
        "\n",
        "knn = KNeighborsClassifier()\n",
        "clf = GridSearchCV(knn, param_grid = parameters, cv = 5) \n",
        "clf.fit(X_train, y_train)\n",
        "print('Cantidad de vecinos óptimos:', clf.best_params_)"
      ],
      "execution_count": null,
      "outputs": [
        {
          "output_type": "stream",
          "name": "stdout",
          "text": [
            "Cantidad de vecinos óptimos: {'n_neighbors': 14}\n"
          ]
        }
      ]
    },
    {
      "cell_type": "markdown",
      "metadata": {
        "id": "a7qjDmCRFEOc"
      },
      "source": [
        "Se entrena el modelo con la cantidad de vecinos óptimos en este caso 14. Otros parámetros como la métrica se dejan por defecto."
      ]
    },
    {
      "cell_type": "code",
      "metadata": {
        "colab": {
          "base_uri": "https://localhost:8080/"
        },
        "id": "BkkPVU1HCFQc",
        "outputId": "526d1228-3c0f-4242-ee7a-0540fdfdba73"
      },
      "source": [
        "knn = KNeighborsClassifier(n_neighbors = 14)\n",
        "knn.fit(X_train, y_train)\n",
        "print('Accuracy en train:{:.2f}'.format(clf.score(X_train, y_train)))\n",
        "print('Accuracy en test:{:.2f}'.format(clf.score(X_test, y_test)))"
      ],
      "execution_count": null,
      "outputs": [
        {
          "output_type": "stream",
          "name": "stdout",
          "text": [
            "Accuracy en train:0.78\n",
            "Accuracy en test:0.76\n"
          ]
        }
      ]
    },
    {
      "cell_type": "markdown",
      "metadata": {
        "id": "l2ZJpKxcEkFD"
      },
      "source": [
        "Finalmente se encuentra el tpr y fpr para graficar la curva ROC, de igual manera se encuentra el área bajo la curva AUC que será la métrica de desempeño utilzada."
      ]
    },
    {
      "cell_type": "code",
      "metadata": {
        "colab": {
          "base_uri": "https://localhost:8080/"
        },
        "id": "nlb0KWGCCCX_",
        "outputId": "cf8f523d-9326-4080-ddeb-32eb0d4dbfe2"
      },
      "source": [
        "y_pred_proba = knn.predict_proba(X_test)[:,1]\n",
        "tprKnn, fprKnn, _ = roc_curve(y_test, y_pred_proba)\n",
        "aucKnn = roc_auc_score(y_test, y_pred_proba)\n",
        "print(\"AUC KNN:{:.2f}\".format(aucKnn))"
      ],
      "execution_count": null,
      "outputs": [
        {
          "output_type": "stream",
          "name": "stdout",
          "text": [
            "AUC KNN:0.81\n"
          ]
        }
      ]
    },
    {
      "cell_type": "markdown",
      "metadata": {
        "id": "EzBM28IEG25E"
      },
      "source": [
        "**LR**\n",
        "\n",
        "Se procede a entrenar el modelo de Regresión logística:"
      ]
    },
    {
      "cell_type": "code",
      "metadata": {
        "colab": {
          "base_uri": "https://localhost:8080/"
        },
        "id": "fgi-JNEFFkl0",
        "outputId": "6eac80cf-621d-412d-bca5-c1ae5adbcdd0"
      },
      "source": [
        "LR_model = LogisticRegression()\n",
        "LR_model.fit(X_train, y_train)\n",
        "print('Accuracy en train:{:.2f}'.format(clf.score(X_train, y_train)))\n",
        "print('Accuracy en test:{:.2f}'.format(clf.score(X_test, y_test)))"
      ],
      "execution_count": null,
      "outputs": [
        {
          "output_type": "stream",
          "name": "stdout",
          "text": [
            "Accuracy en train:0.78\n",
            "Accuracy en test:0.76\n"
          ]
        }
      ]
    },
    {
      "cell_type": "markdown",
      "metadata": {
        "id": "-iRzsKNCFKah"
      },
      "source": [
        "Se calcula el fpr, tpr y auc para el modelo de regresión logística."
      ]
    },
    {
      "cell_type": "code",
      "metadata": {
        "colab": {
          "base_uri": "https://localhost:8080/"
        },
        "id": "BrCUkh8UCog0",
        "outputId": "701e3b72-6563-4efc-d832-1f538ad4cf1d"
      },
      "source": [
        "y_pred_proba = LR_model.predict_proba(X_test)[:,1]\n",
        "tprLr, fprLr, _ = roc_curve(y_test, y_pred_proba)\n",
        "aucLr = roc_auc_score(y_test, y_pred_proba)\n",
        "print(\"AUC RL:{:.2f}\".format(aucLr))"
      ],
      "execution_count": null,
      "outputs": [
        {
          "output_type": "stream",
          "name": "stdout",
          "text": [
            "AUC RL:0.86\n"
          ]
        }
      ]
    },
    {
      "cell_type": "markdown",
      "metadata": {
        "id": "1O9haINjHpjM"
      },
      "source": [
        "**DT**\n",
        "\n",
        "Se realiza validación cruzada con 5 folders para el modelo de DT, con el fin de encontrar la profundidad óptima:"
      ]
    },
    {
      "cell_type": "code",
      "metadata": {
        "colab": {
          "base_uri": "https://localhost:8080/"
        },
        "id": "ug4OFgGfHrHK",
        "outputId": "c211d4bc-8760-4951-a1ac-11289b7bb3cb"
      },
      "source": [
        "#Escoger la profundidad con validación cruzada.\n",
        "tree_model = DecisionTreeClassifier(criterion = 'gini', random_state = 1)\n",
        "parameters = {'max_depth': range(3,8)}\n",
        "clf = GridSearchCV(tree_model, param_grid = parameters, cv = 5) \n",
        "clf.fit(X_train, y_train)\n",
        "print('La profundidad óptima es: ',clf.best_params_)"
      ],
      "execution_count": null,
      "outputs": [
        {
          "output_type": "stream",
          "name": "stdout",
          "text": [
            "La profundidad óptima es:  {'max_depth': 5}\n"
          ]
        }
      ]
    },
    {
      "cell_type": "markdown",
      "metadata": {
        "id": "5uleRcJaFqNt"
      },
      "source": [
        "Teniendo una profundidad óptima de 5 se entrena el modelo y se procede a calcular los accuracys en entrenamiento y test."
      ]
    },
    {
      "cell_type": "code",
      "metadata": {
        "colab": {
          "base_uri": "https://localhost:8080/"
        },
        "id": "uTFsQPkEIDia",
        "outputId": "86939efe-92ae-4188-8538-167c3fd0eeac"
      },
      "source": [
        "print('Accuracy en entrenamiento: {:.2f}'.format(clf.score(X_train, y_train)))\n",
        "print('Accuracy en test: {:.2f}'.format(clf.score(X_test, y_test)))"
      ],
      "execution_count": null,
      "outputs": [
        {
          "output_type": "stream",
          "name": "stdout",
          "text": [
            "Accuracy en entrenamiento: 0.85\n",
            "Accuracy en test: 0.74\n"
          ]
        }
      ]
    },
    {
      "cell_type": "markdown",
      "metadata": {
        "id": "6LH4ozScFzxs"
      },
      "source": [
        "Se calcula el fpr, tpr y auc para el modelo:"
      ]
    },
    {
      "cell_type": "code",
      "metadata": {
        "colab": {
          "base_uri": "https://localhost:8080/"
        },
        "id": "5OfNNdS_C0OE",
        "outputId": "1146763f-f71b-48f4-a3af-ebc2164c7ac0"
      },
      "source": [
        "y_pred_proba = clf.predict_proba(X_test)[:,1]\n",
        "tprDt, fprDt, _ = roc_curve(y_test, y_pred_proba)\n",
        "aucDt = roc_auc_score(y_test, y_pred_proba)\n",
        "print(\"AUC DT:{:.2f}\".format(aucDt))"
      ],
      "execution_count": null,
      "outputs": [
        {
          "output_type": "stream",
          "name": "stdout",
          "text": [
            "AUC DT:0.79\n"
          ]
        }
      ]
    },
    {
      "cell_type": "markdown",
      "metadata": {
        "id": "U7m9HCGKKIRs"
      },
      "source": [
        "**RF**\n",
        "\n",
        "Para el modelo de Random Forest no es necesario realizar validación cruzada para encontrar parámetros óptimos sino que estos se dejan por defecto. Se procede a entrenar el modelo y a calcular los accuracys en entrenamiento y test:"
      ]
    },
    {
      "cell_type": "code",
      "metadata": {
        "colab": {
          "base_uri": "https://localhost:8080/"
        },
        "id": "YokCr8HsKMbS",
        "outputId": "01c4f0b3-0bab-4356-d1e4-319fb36d8651"
      },
      "source": [
        "RF_model = RandomForestClassifier(n_estimators = 100, bootstrap = True, max_features = 'sqrt' ) \n",
        "RF_model.fit(X_train, y_train)\n",
        "y_pred = RF_model.predict(X_test)\n",
        "print('Accuracy en entrenamiento: {:.2f}'.format(RF_model.score(X_train, y_train)))\n",
        "print('Accuracy en test: {:.2f}'.format(RF_model.score(X_test, y_test)))"
      ],
      "execution_count": null,
      "outputs": [
        {
          "output_type": "stream",
          "name": "stdout",
          "text": [
            "Accuracy en entrenamiento: 1.00\n",
            "Accuracy en test: 0.79\n"
          ]
        }
      ]
    },
    {
      "cell_type": "markdown",
      "metadata": {
        "id": "Bygk3cN4Ga63"
      },
      "source": [
        "Se calcula el fpr, tpr y auc para el modelo de RF:"
      ]
    },
    {
      "cell_type": "code",
      "metadata": {
        "colab": {
          "base_uri": "https://localhost:8080/"
        },
        "id": "Xg0eAqbWDAfR",
        "outputId": "3e77691b-1bef-48fd-acdb-a5a1e91c6899"
      },
      "source": [
        "y_pred_proba = RF_model.predict_proba(X_test)[:,1]\n",
        "tprRf, fprRf, _ = roc_curve(y_test, y_pred_proba)\n",
        "aucRf = roc_auc_score(y_test, y_pred_proba)\n",
        "print(\"AUC RF:{:.2f}\".format(aucRf))"
      ],
      "execution_count": null,
      "outputs": [
        {
          "output_type": "stream",
          "name": "stdout",
          "text": [
            "AUC RF:0.84\n"
          ]
        }
      ]
    },
    {
      "cell_type": "markdown",
      "metadata": {
        "id": "nEoKrSqDK06I"
      },
      "source": [
        "**XGB**\n",
        "\n",
        "Se procede a entrenar el modelo de XGB con el dataset de diabetes:"
      ]
    },
    {
      "cell_type": "code",
      "metadata": {
        "id": "npifp979LHH8"
      },
      "source": [
        "xgb_model = XGBClassifier(n_estimators = 88, max_depth = 3, objective = 'binary:logistic', nthread = 4, scale_pos_weight = 1, seed = 27)\n",
        "xgb_model.fit(X_train, y_train)\n",
        "y_pred = xgb_model.predict(X_test)"
      ],
      "execution_count": null,
      "outputs": []
    },
    {
      "cell_type": "markdown",
      "metadata": {
        "id": "CdbLqIenG3ha"
      },
      "source": [
        "Se calculan los accuracys en entrenamiento y test para el modelo:"
      ]
    },
    {
      "cell_type": "code",
      "metadata": {
        "colab": {
          "base_uri": "https://localhost:8080/"
        },
        "id": "0MR3qaH3KHy_",
        "outputId": "a0c1597e-2126-4767-ffd1-717bb9581c17"
      },
      "source": [
        "print('Accuracy en entrenamiento: {:.2f}'.format(xgb_model.score(X_train, y_train)))\n",
        "print('Accuracy en test: {:.2f}'.format(xgb_model.score(X_test, y_test)))"
      ],
      "execution_count": null,
      "outputs": [
        {
          "output_type": "stream",
          "name": "stdout",
          "text": [
            "Accuracy en entrenamiento: 0.89\n",
            "Accuracy en test: 0.74\n"
          ]
        }
      ]
    },
    {
      "cell_type": "markdown",
      "metadata": {
        "id": "Mp-4_bI6G7_i"
      },
      "source": [
        "Se calcula el tpr, fpr y auc para el modelo de XGB:"
      ]
    },
    {
      "cell_type": "code",
      "metadata": {
        "colab": {
          "base_uri": "https://localhost:8080/"
        },
        "id": "AA6GI2KmDFqU",
        "outputId": "56c86c7a-82f1-48a5-f99f-614a2a20e5ce"
      },
      "source": [
        "y_pred_proba = xgb_model.predict_proba(X_test)[:,1]\n",
        "tprXgb, fprXgb, _ = roc_curve(y_test, y_pred_proba)\n",
        "aucXgb = roc_auc_score(y_test, y_pred_proba)\n",
        "print(\"AUC XGB:{:.2f}\".format(aucXgb))"
      ],
      "execution_count": null,
      "outputs": [
        {
          "output_type": "stream",
          "name": "stdout",
          "text": [
            "AUC XGB:0.85\n"
          ]
        }
      ]
    },
    {
      "cell_type": "markdown",
      "metadata": {
        "id": "PY__V3qfLXoU"
      },
      "source": [
        "**SVM**\n",
        "\n",
        "Se realiza validación cruzada con el modelo de SVM para encontrar el $C$ y $r$ óptimos."
      ]
    },
    {
      "cell_type": "code",
      "metadata": {
        "id": "EGlRQzuSH6wp",
        "colab": {
          "base_uri": "https://localhost:8080/"
        },
        "outputId": "56481dc5-b86f-419c-8575-013cc8eae2f0"
      },
      "source": [
        "clf = SVC(kernel = 'rbf', probability = True) \n",
        "parameters = {'C': np.logspace(-4,4,9), 'gamma': np.logspace(-4,4,9)}\n",
        "SVM_model = GridSearchCV(clf, param_grid = parameters, cv = 5)    \n",
        "SVM_model.fit(X_train, y_train)\n",
        "print('Mejores hiperparámetros: ', SVM_model.best_params_)"
      ],
      "execution_count": null,
      "outputs": [
        {
          "output_type": "stream",
          "name": "stdout",
          "text": [
            "Mejores hiperparámetros:  {'C': 10.0, 'gamma': 0.01}\n"
          ]
        }
      ]
    },
    {
      "cell_type": "markdown",
      "metadata": {
        "id": "ieu6J2RoBZiB"
      },
      "source": [
        "Se entrena nuevamente el modelo con los mejores hiperparámetros encontrados anteriormente a través de validación cruzada:"
      ]
    },
    {
      "cell_type": "code",
      "metadata": {
        "colab": {
          "base_uri": "https://localhost:8080/"
        },
        "id": "P-aN71_sBh2c",
        "outputId": "d6ec3c9d-db53-4ce5-a975-22312b68d9e6"
      },
      "source": [
        "SVM_model = SVC(kernel = 'rbf', probability = True, C = SVM_model.best_params_['C'], gamma = SVM_model.best_params_['gamma'])\n",
        "SVM_model.fit(X_train, y_train)"
      ],
      "execution_count": null,
      "outputs": [
        {
          "output_type": "execute_result",
          "data": {
            "text/plain": [
              "SVC(C=10.0, break_ties=False, cache_size=200, class_weight=None, coef0=0.0,\n",
              "    decision_function_shape='ovr', degree=3, gamma=0.01, kernel='rbf',\n",
              "    max_iter=-1, probability=True, random_state=None, shrinking=True, tol=0.001,\n",
              "    verbose=False)"
            ]
          },
          "metadata": {},
          "execution_count": 278
        }
      ]
    },
    {
      "cell_type": "markdown",
      "metadata": {
        "id": "w4y1pmbhBxCI"
      },
      "source": [
        "Se calculan los accuracys en entrenamiento y test para el modelo:"
      ]
    },
    {
      "cell_type": "code",
      "metadata": {
        "colab": {
          "base_uri": "https://localhost:8080/"
        },
        "id": "7L7NsYa5B0AK",
        "outputId": "68a36cfe-85ef-44bc-9b9f-7655ecaa69ba"
      },
      "source": [
        "print('Accuracy en entrenamiento: {:.2f}'.format(SVM_model.score(X_train, y_train)))\n",
        "print('Accuracy en test: {:.2f}'.format(SVM_model.score(X_test, y_test)))"
      ],
      "execution_count": null,
      "outputs": [
        {
          "output_type": "stream",
          "name": "stdout",
          "text": [
            "Accuracy en entrenamiento: 0.80\n",
            "Accuracy en test: 0.79\n"
          ]
        }
      ]
    },
    {
      "cell_type": "markdown",
      "metadata": {
        "id": "qEoeRAoUCFzf"
      },
      "source": [
        "Se calcula el tpr, fpr y auc para el modelo de SVM:"
      ]
    },
    {
      "cell_type": "code",
      "metadata": {
        "colab": {
          "base_uri": "https://localhost:8080/"
        },
        "id": "4E-lXPMYCBzV",
        "outputId": "31beb9f6-0664-4a79-9372-8a295daff8d3"
      },
      "source": [
        "y_pred_proba = SVM_model.predict_proba(X_test)[:,1]\n",
        "tprSvm, fprSvm, _ = roc_curve(y_test, y_pred_proba)\n",
        "aucSvm = roc_auc_score(y_test, y_pred_proba)\n",
        "print(\"AUC SVM:{:.2f}\".format(aucSvm))"
      ],
      "execution_count": null,
      "outputs": [
        {
          "output_type": "stream",
          "name": "stdout",
          "text": [
            "AUC SVM:0.87\n"
          ]
        }
      ]
    },
    {
      "cell_type": "markdown",
      "metadata": {
        "id": "k42lsiGEOKjp"
      },
      "source": [
        "**Curva ROC**"
      ]
    },
    {
      "cell_type": "code",
      "metadata": {
        "id": "J30lzBpbLZWt",
        "colab": {
          "base_uri": "https://localhost:8080/",
          "height": 513
        },
        "outputId": "be46b562-21d7-4e4e-df2f-58a843a6821a"
      },
      "source": [
        "plt.figure(figsize = (8,8))\n",
        "plt.plot([0,1],[0,1],linestyle = '--', alpha = 0.8, lw = 2, label = 'Modelo aleatorio.', color = 'r')\n",
        "plt.plot(tprKnn, fprKnn, label = \"KNN Model AUC = {:.2f}\".format(aucKnn))\n",
        "plt.plot(tprLr, fprLr, label = \"LR Model AUC = {:.2f}\".format(aucLr))\n",
        "plt.plot(tprDt, fprDt, label = \"DT Model AUC = {:.2f}\".format(aucDt))\n",
        "plt.plot(tprRf, fprRf, label = \"RF Model AUC = {:.2f}\".format(aucRf))\n",
        "plt.plot(tprXgb, fprXgb, label = \"XGB Model AUC = {:.2f}\".format(aucXgb))\n",
        "plt.plot(tprSvm, fprSvm, label = \"SVM Model AUC = {:.2f}\".format(aucSvm))\n",
        "\n",
        "\n",
        "plt.grid();\n",
        "plt.title(\"ROC Curve and AUC Score\")\n",
        "plt.legend();\n",
        "plt.xlim([-0.005,1]);\n",
        "plt.ylim([0,1.005]);\n",
        "plt.legend(loc = 'best');\n",
        "plt.xlabel('FPR');\n",
        "plt.ylabel('TPR');"
      ],
      "execution_count": null,
      "outputs": [
        {
          "output_type": "display_data",
          "data": {
            "image/png": "[encoded data removed]",
            "text/plain": [
              "<Figure size 576x576 with 1 Axes>"
            ]
          },
          "metadata": {
            "needs_background": "light"
          }
        }
      ]
    },
    {
      "cell_type": "markdown",
      "metadata": {
        "id": "GvxDZ0Z2Cmrd"
      },
      "source": [
        "De acuerdo a la gráfica anterior se puede observar que los modelos con mejor desempeño son los de RF, LR, SVM y XGB, mientras que los modelos de KNN y DT tienen los menores desempeños, esto de acuerdo a la métrica de área bajo la curva AUC."
      ]
    },
    {
      "cell_type": "markdown",
      "metadata": {
        "id": "hO_mgp1aHZcq"
      },
      "source": [
        "# **Capítulo 10: Punto 1**"
      ]
    },
    {
      "cell_type": "markdown",
      "metadata": {
        "id": "yfiCwa8HaGr1"
      },
      "source": [
        "**Ver PDF Adjunto. :)**"
      ]
    },
    {
      "cell_type": "markdown",
      "metadata": {
        "id": "uG7ssMtgE2ZL"
      },
      "source": [
        "# **Capítulo 10: Punto 2**"
      ]
    },
    {
      "cell_type": "markdown",
      "metadata": {
        "id": "BA3FHTp5m-T_"
      },
      "source": [
        "Se procede a construir una red neuronal con tensorflow, para realizar clasificación de prendas de vestir con la base de datos de Fashion_mnist."
      ]
    },
    {
      "cell_type": "code",
      "metadata": {
        "id": "mJwo2lonDn8A"
      },
      "source": [
        "import tensorflow as tf\n",
        "from random import randint\n",
        "\n",
        "from tensorflow.keras.datasets import fashion_mnist\n",
        "from tensorflow.keras.utils import plot_model\n",
        "from tensorflow.keras.models import Model #Crear modelo de NN\n",
        "from tensorflow.keras.layers import Input, Dense, Flatten, concatenate"
      ],
      "execution_count": null,
      "outputs": []
    },
    {
      "cell_type": "markdown",
      "metadata": {
        "id": "tObVgscinYPm"
      },
      "source": [
        "Se carga la base de datos dividiendo entre train y test."
      ]
    },
    {
      "cell_type": "code",
      "metadata": {
        "id": "0z7PNdHEOQRG"
      },
      "source": [
        "(X_train, y_train), (X_test, y_test) = fashion_mnist.load_data();\n",
        "\n",
        "RSHAPED = 784"
      ],
      "execution_count": null,
      "outputs": []
    },
    {
      "cell_type": "code",
      "metadata": {
        "id": "ERmvFx6SMPGS"
      },
      "source": [
        "num_classes = 10\n",
        "img_rows, img_columns = 28, 28\n",
        "num_channeels = 1\n",
        "input_shape = (img_rows, img_columns, num_channeels)"
      ],
      "execution_count": null,
      "outputs": []
    },
    {
      "cell_type": "code",
      "metadata": {
        "colab": {
          "base_uri": "https://localhost:8080/"
        },
        "id": "G6rgZgR3Ph1f",
        "outputId": "ddd68869-f0b9-41fb-a53a-f9eb07ddfd39"
      },
      "source": [
        "print(X_train.shape)\n",
        "print(X_test.shape)\n",
        "print(y_train)\n",
        "print(y_test)"
      ],
      "execution_count": null,
      "outputs": [
        {
          "output_type": "stream",
          "name": "stdout",
          "text": [
            "(60000, 28, 28)\n",
            "(10000, 28, 28)\n",
            "[9 0 0 ... 3 0 5]\n",
            "[9 2 1 ... 8 1 5]\n"
          ]
        }
      ]
    },
    {
      "cell_type": "code",
      "metadata": {
        "id": "rFRAhGJRZf2v"
      },
      "source": [
        "X_train = X_train / 255.0\n",
        "X_test = X_test / 255.0"
      ],
      "execution_count": null,
      "outputs": []
    },
    {
      "cell_type": "markdown",
      "metadata": {
        "id": "K35y3b9mnmJu"
      },
      "source": [
        "Se procede a graficar algunas muestras de la base de datos con su etiqueta."
      ]
    },
    {
      "cell_type": "code",
      "metadata": {
        "colab": {
          "base_uri": "https://localhost:8080/"
        },
        "id": "aLwW4DwFPm7w",
        "outputId": "b6cdd0d6-c521-40c4-a2ac-befa57bbc87f"
      },
      "source": [
        "class_names = ['T-shirt', 'Trouser', 'Pullover', 'Dress', 'Coat', 'Sandal', 'Shirt', 'Sneaker', 'Bag', 'Boot']\n",
        "plt.figure(figsize = (10,10))\n",
        "for i in range(25):\n",
        "  plt.subplot(5,5, i + 1)\n",
        "  plt.xticks([])\n",
        "  plt.yticks([])\n",
        "  plt.grid(False)\n",
        "  n = randint(0, X_train.shape[0]-1)\n",
        "  plt.imshow(X_train[n], cmap = plt.cm.binary) #Graficar imagenes\n",
        "  plt.xlabel(class_names[y_train[n]])"
      ],
      "execution_count": null,
      "outputs": [
        {
          "output_type": "display_data",
          "data": {
            "image/png": "[encoded data removed]",
            "text/plain": [
              "<Figure size 720x720 with 25 Axes>"
            ]
          },
          "metadata": {}
        }
      ]
    },
    {
      "cell_type": "markdown",
      "metadata": {
        "id": "o_ukvWCroW_b"
      },
      "source": [
        "A continuación se crea el modelo usando tensorflow. Este consta de una capa de entrada con una forma de 28 x 28 pues es el tamaño de cada imagen.\n",
        "Posteriormente se crean las capas intermedias, con 128, 64, 32 y 16 neuronas respectivamente, por último se crea la capa de salida con 10 neuronas, cada neurona se encarga de predecir una clase."
      ]
    },
    {
      "cell_type": "code",
      "metadata": {
        "colab": {
          "base_uri": "https://localhost:8080/"
        },
        "id": "zvY6qGIGE189",
        "outputId": "1f1e77e9-3637-41d9-c9a2-9edd747d6af6"
      },
      "source": [
        "model = tf.keras.models.Sequential()\n",
        "model.add(Flatten(input_shape = (28, 28))) #Capa de entrada.\n",
        "model.add(Dense(128, activation = 'relu')) #Capas intermedias.\n",
        "model.add(Dense(64, activation = 'relu')) #Capas intermedias.\n",
        "model.add(Dense(32, activation = 'relu')) #Capas intermedias.\n",
        "model.add(Dense(16, activation = 'relu')) #Capas intermedias.\n",
        "model.add(Dense(num_classes, activation = 'softmax')) #Capas de salida.\n",
        "\n",
        "model.summary()"
      ],
      "execution_count": null,
      "outputs": [
        {
          "output_type": "stream",
          "name": "stdout",
          "text": [
            "Model: \"sequential_3\"\n",
            "_________________________________________________________________\n",
            "Layer (type)                 Output Shape              Param #   \n",
            "=================================================================\n",
            "flatten_3 (Flatten)          (None, 784)               0         \n",
            "_________________________________________________________________\n",
            "dense_15 (Dense)             (None, 128)               100480    \n",
            "_________________________________________________________________\n",
            "dense_16 (Dense)             (None, 64)                8256      \n",
            "_________________________________________________________________\n",
            "dense_17 (Dense)             (None, 32)                2080      \n",
            "_________________________________________________________________\n",
            "dense_18 (Dense)             (None, 16)                528       \n",
            "_________________________________________________________________\n",
            "dense_19 (Dense)             (None, 10)                170       \n",
            "=================================================================\n",
            "Total params: 111,514\n",
            "Trainable params: 111,514\n",
            "Non-trainable params: 0\n",
            "_________________________________________________________________\n"
          ]
        }
      ]
    },
    {
      "cell_type": "markdown",
      "metadata": {
        "id": "Um09j-wMocOn"
      },
      "source": [
        "Se procede a compilar y a entrenar el modelo, con 20 épocas."
      ]
    },
    {
      "cell_type": "code",
      "metadata": {
        "id": "CV9cT9stVFlB"
      },
      "source": [
        "model.compile(tf.keras.optimizers.SGD(learning_rate = 0.01), loss = 'sparse_categorical_crossentropy', metrics = ['accuracy'])"
      ],
      "execution_count": null,
      "outputs": []
    },
    {
      "cell_type": "code",
      "metadata": {
        "colab": {
          "base_uri": "https://localhost:8080/"
        },
        "id": "4Kq6alvWVJ00",
        "outputId": "73b4fc3c-86a3-4651-bcd9-bca5ac994b65"
      },
      "source": [
        "model.fit(X_train, y_train, epochs = 20, verbose = 1, validation_data = (X_test, y_test))"
      ],
      "execution_count": null,
      "outputs": [
        {
          "output_type": "stream",
          "name": "stdout",
          "text": [
            "Epoch 1/20\n",
            "1875/1875 [==============================] - 5s 2ms/step - loss: 0.8671 - accuracy: 0.6999 - val_loss: 0.5967 - val_accuracy: 0.7905\n",
            "Epoch 2/20\n",
            "1875/1875 [==============================] - 4s 2ms/step - loss: 0.5161 - accuracy: 0.8194 - val_loss: 0.4953 - val_accuracy: 0.8250\n",
            "Epoch 3/20\n",
            "1875/1875 [==============================] - 5s 3ms/step - loss: 0.4513 - accuracy: 0.8398 - val_loss: 0.4566 - val_accuracy: 0.8355\n",
            "Epoch 4/20\n",
            "1875/1875 [==============================] - 5s 3ms/step - loss: 0.4129 - accuracy: 0.8521 - val_loss: 0.4553 - val_accuracy: 0.8364\n",
            "Epoch 5/20\n",
            "1875/1875 [==============================] - 5s 3ms/step - loss: 0.3901 - accuracy: 0.8602 - val_loss: 0.4235 - val_accuracy: 0.8456\n",
            "Epoch 6/20\n",
            "1875/1875 [==============================] - 5s 3ms/step - loss: 0.3680 - accuracy: 0.8676 - val_loss: 0.3955 - val_accuracy: 0.8588\n",
            "Epoch 7/20\n",
            "1875/1875 [==============================] - 5s 3ms/step - loss: 0.3534 - accuracy: 0.8720 - val_loss: 0.3849 - val_accuracy: 0.8604\n",
            "Epoch 8/20\n",
            "1875/1875 [==============================] - 5s 3ms/step - loss: 0.3412 - accuracy: 0.8764 - val_loss: 0.3883 - val_accuracy: 0.8634\n",
            "Epoch 9/20\n",
            "1875/1875 [==============================] - 5s 3ms/step - loss: 0.3307 - accuracy: 0.8801 - val_loss: 0.3733 - val_accuracy: 0.8658\n",
            "Epoch 10/20\n",
            "1875/1875 [==============================] - 5s 3ms/step - loss: 0.3187 - accuracy: 0.8839 - val_loss: 0.3630 - val_accuracy: 0.8664\n",
            "Epoch 11/20\n",
            "1875/1875 [==============================] - 4s 2ms/step - loss: 0.3091 - accuracy: 0.8866 - val_loss: 0.3591 - val_accuracy: 0.8726\n",
            "Epoch 12/20\n",
            "1875/1875 [==============================] - 5s 3ms/step - loss: 0.3010 - accuracy: 0.8899 - val_loss: 0.3689 - val_accuracy: 0.8664\n",
            "Epoch 13/20\n",
            "1875/1875 [==============================] - 5s 2ms/step - loss: 0.2935 - accuracy: 0.8927 - val_loss: 0.3582 - val_accuracy: 0.8704\n",
            "Epoch 14/20\n",
            "1875/1875 [==============================] - 4s 2ms/step - loss: 0.2879 - accuracy: 0.8935 - val_loss: 0.3564 - val_accuracy: 0.8744\n",
            "Epoch 15/20\n",
            "1875/1875 [==============================] - 4s 2ms/step - loss: 0.2809 - accuracy: 0.8970 - val_loss: 0.3592 - val_accuracy: 0.8741\n",
            "Epoch 16/20\n",
            "1875/1875 [==============================] - 4s 2ms/step - loss: 0.2741 - accuracy: 0.8990 - val_loss: 0.3625 - val_accuracy: 0.8707\n",
            "Epoch 17/20\n",
            "1875/1875 [==============================] - 4s 2ms/step - loss: 0.2688 - accuracy: 0.8996 - val_loss: 0.3547 - val_accuracy: 0.8737\n",
            "Epoch 18/20\n",
            "1875/1875 [==============================] - 4s 2ms/step - loss: 0.2626 - accuracy: 0.9026 - val_loss: 0.3486 - val_accuracy: 0.8727\n",
            "Epoch 19/20\n",
            "1875/1875 [==============================] - 4s 2ms/step - loss: 0.2558 - accuracy: 0.9054 - val_loss: 0.3470 - val_accuracy: 0.8778\n",
            "Epoch 20/20\n",
            "1875/1875 [==============================] - 4s 2ms/step - loss: 0.2514 - accuracy: 0.9074 - val_loss: 0.3450 - val_accuracy: 0.8767\n"
          ]
        },
        {
          "output_type": "execute_result",
          "data": {
            "text/plain": [
              "<keras.callbacks.History at 0x7ff52dfd1710>"
            ]
          },
          "metadata": {},
          "execution_count": 253
        }
      ]
    },
    {
      "cell_type": "code",
      "metadata": {
        "id": "IXrGQ2iTZEJd"
      },
      "source": [
        "y_pred = model.predict(X_test)"
      ],
      "execution_count": null,
      "outputs": []
    },
    {
      "cell_type": "code",
      "metadata": {
        "colab": {
          "base_uri": "https://localhost:8080/"
        },
        "id": "4AY74s99iFyu",
        "outputId": "8ce2caa2-c51b-4c1b-a241-5b6bf26c8ac0"
      },
      "source": [
        "y_pred.shape"
      ],
      "execution_count": null,
      "outputs": [
        {
          "output_type": "execute_result",
          "data": {
            "text/plain": [
              "(10000, 10)"
            ]
          },
          "metadata": {},
          "execution_count": 255
        }
      ]
    },
    {
      "cell_type": "code",
      "metadata": {
        "colab": {
          "base_uri": "https://localhost:8080/"
        },
        "id": "2XjRHkN4lVld",
        "outputId": "c3107eab-97c6-43ed-c082-3f1e37b51656"
      },
      "source": [
        "# install helper utilities\n",
        "!git clone https://github.com/liady/ssp19ai_utils.git\n",
        "!git -C ssp19ai_utils pull\n",
        "import ssp19ai_utils.utils as utils\n",
        "import importlib\n",
        "importlib.reload(utils)"
      ],
      "execution_count": null,
      "outputs": [
        {
          "output_type": "stream",
          "name": "stdout",
          "text": [
            "fatal: destination path 'ssp19ai_utils' already exists and is not an empty directory.\n",
            "Already up to date.\n"
          ]
        },
        {
          "output_type": "execute_result",
          "data": {
            "text/plain": [
              "<module 'ssp19ai_utils.utils' from '/content/ssp19ai_utils/utils.py'>"
            ]
          },
          "metadata": {},
          "execution_count": 256
        }
      ]
    },
    {
      "cell_type": "markdown",
      "metadata": {
        "id": "Gz6UaDNqojiE"
      },
      "source": [
        "Se procede a graficar aleatoriamente algunas de las perdicciones hechas por el modelo. Las gráficas azules están correctamente clasificadas. Las rojas son incorrectas. De igual manera muestra la probabilidad de predicción del modelo para cada muestra."
      ]
    },
    {
      "cell_type": "code",
      "metadata": {
        "colab": {
          "base_uri": "https://localhost:8080/"
        },
        "id": "7ARfELi7lRUf",
        "outputId": "61d8c839-2a93-45a5-d52e-cd20fc0d9945"
      },
      "source": [
        "utils.plot_multi_images_prob(y_pred, y_test, X_test)"
      ],
      "execution_count": null,
      "outputs": [
        {
          "output_type": "display_data",
          "data": {
            "image/png": "[encoded data removed]",
            "text/plain": [
              "<Figure size 864x720 with 30 Axes>"
            ]
          },
          "metadata": {}
        }
      ]
    },
    {
      "cell_type": "markdown",
      "metadata": {
        "id": "E66YaSF_mgyC"
      },
      "source": [
        "Por último se procede a graficar la matriz de confusión."
      ]
    },
    {
      "cell_type": "code",
      "metadata": {
        "id": "oIwUTXmcmhU8"
      },
      "source": [
        "# As always - let's convert the probabilities array into classes\n",
        "predicted_classes = utils.label_with_highest_prob(y_pred)"
      ],
      "execution_count": null,
      "outputs": []
    },
    {
      "cell_type": "code",
      "metadata": {
        "colab": {
          "base_uri": "https://localhost:8080/"
        },
        "id": "8hRNGWg1myJK",
        "outputId": "da205cfc-f320-464b-cabc-ab20929427d8"
      },
      "source": [
        "# Plot the matrix\n",
        "plt.figure(figsize = (10,10))\n",
        "utils.plot_confusion_matrix(y_pred = predicted_classes, y_true = y_test, classes=np.array(class_names));"
      ],
      "execution_count": null,
      "outputs": [
        {
          "output_type": "stream",
          "name": "stdout",
          "text": [
            "Confusion matrix\n"
          ]
        },
        {
          "output_type": "display_data",
          "data": {
            "text/plain": [
              "<Figure size 720x720 with 0 Axes>"
            ]
          },
          "metadata": {}
        },
        {
          "output_type": "display_data",
          "data": {
            "image/png": "[encoded data removed]",
            "text/plain": [
              "<Figure size 432x288 with 2 Axes>"
            ]
          },
          "metadata": {
            "needs_background": "light"
          }
        }
      ]
    }
  ]
}