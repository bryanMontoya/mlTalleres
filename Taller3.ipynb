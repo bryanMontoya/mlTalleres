{
  "nbformat": 4,
  "nbformat_minor": 0,
  "metadata": {
    "colab": {
      "name": "Taller3.ipynb",
      "provenance": [],
      "collapsed_sections": [],
      "include_colab_link": true
    },
    "kernelspec": {
      "name": "python3",
      "display_name": "Python 3"
    },
    "language_info": {
      "name": "python"
    }
  },
  "cells": [
    {
      "cell_type": "markdown",
      "metadata": {
        "id": "view-in-github",
        "colab_type": "text"
      },
      "source": [
        "<a href=\"https://colab.research.google.com/github/bryanMontoya/mlTalleres/blob/main/Taller3.ipynb\" target=\"_parent\"><img src=\"https://colab.research.google.com/assets/colab-badge.svg\" alt=\"Open In Colab\"/></a>"
      ]
    },
    {
      "cell_type": "markdown",
      "metadata": {
        "id": "uGf6IBBF0t6o"
      },
      "source": [
        "# **Regresión Logística.**\n",
        "\n",
        "* Jojhan Stiven Puerta Castaño.\n",
        "* Brayan Montoya Osorio.\n",
        "\n",
        "\n",
        "\n",
        "La regresión logística es un método de machine learning usado para realizar clasificación biclase el cual es basado en modelos. Este método requiere que los datos sean linealmente separables para su buen funcionamiento y la pertenencia a una clase u otra se representa mediante probabilidades las cuales se obtienen gracias a la función sigmoide que convierte distancias a probabilidades."
      ]
    },
    {
      "cell_type": "code",
      "metadata": {
        "id": "CUjriUEknCrl"
      },
      "source": [
        "#Importación de librerías.\n",
        "import math\n",
        "import numpy as np\n",
        "import random\n",
        "import pandas as pd\n",
        "import matplotlib.pyplot as plt\n",
        "from sklearn.model_selection import train_test_split\n",
        "from sklearn.datasets import load_diabetes"
      ],
      "execution_count": null,
      "outputs": []
    },
    {
      "cell_type": "markdown",
      "metadata": {
        "id": "cb80clnUy3T3"
      },
      "source": [
        "**Punto 1: Algoritmo de gradiente descendente.**\n",
        "\n",
        "El algoritmo de gradiente descendente da la posibilidad de encontrar los parámetros óptimos que se ajustan de mejor manera a los datos, su ecuación es mostrada a continuación:\n",
        "$$\\theta_{j} = \\theta_{j} - \\eta \\sum_{i=1}^{m}(\\psi^{i} - \\phi(z)) x_{j}$$\n",
        "\n",
        "Donde $\\theta$ son los parámetros, $\\eta$ es la velocidad de aprendizaje, $\\psi$ son las etiquetas, $\\phi(z)$ es la predicción y $x$ son las características.\n",
        "\n",
        "A continuación un ejemplo de programación del algoritmo de gradiente descendente:\n",
        "\n",
        "\n"
      ]
    },
    {
      "cell_type": "code",
      "metadata": {
        "id": "x3Sy1ce_y2E7"
      },
      "source": [
        "def derParcial(proba, labels, feature):\n",
        "  d = 0    \n",
        "  labels = np.array([labels])\n",
        "  feature = np.array([feature])\n",
        "  proba = np.array([proba])\n",
        "  for i in range(len(labels)):    \n",
        "    d = d + (labels[i] - proba[i])*feature[i]    \n",
        "  return d"
      ],
      "execution_count": null,
      "outputs": []
    },
    {
      "cell_type": "code",
      "metadata": {
        "id": "_Y7mk-mwYjRj"
      },
      "source": [
        "def graDesc(X_train, y_train, n, itera):\n",
        "  m, Tcarac = np.shape(X_train)\n",
        "  t = [random.uniform(-10, 10)]\n",
        "  for _ in range(Tcarac):\n",
        "    t.append(random.uniform(-10, 10))   # Se generan los valores aleatorios iniciales para los parámetros\n",
        "\n",
        "  for _ in range(itera):\n",
        "    for i in range(Tcarac):\n",
        "      proba = evaluarModelo(X_train, t)\n",
        "      X_train = np.array([X_train[:, i]])\n",
        "      X_train = X_train.transpose()\n",
        "      der = derParcial(proba, y_train, X_train)\n",
        "      t[i] = t[i] - n*der  \n",
        "  return t"
      ],
      "execution_count": null,
      "outputs": []
    },
    {
      "cell_type": "markdown",
      "metadata": {
        "id": "TlPcwFnqylXQ"
      },
      "source": [
        "**Punto 2: Evaluar modelo.**\n",
        "\n",
        "El modelo de regresión logística se evalúa a través de función sigmoide mostrada a continuación:\n",
        "\n",
        "$$h(\\theta) = \\frac{1}{1 + e^{-\\theta^{T}x}}$$\n",
        "\n",
        "A continuación un ejemplo de programación para esta función:"
      ]
    },
    {
      "cell_type": "code",
      "metadata": {
        "id": "kuQk6tDaykgL"
      },
      "source": [
        "def evaluarModelo(featuresMatrix, parametros):\n",
        "  probaVector = []\n",
        "  for features in featuresMatrix:            \n",
        "    #Insertar un uno en la posicion cero, para poder hacer el producto punto.\n",
        "    features = np.append(10, features)       \n",
        "    try:\n",
        "      pp = np.dot(parametros, features)    \n",
        "      probaVector.append(1/(1 + math.exp((-1)*pp)))                        \n",
        "    except:\n",
        "      probaVector.append(1)\n",
        "  return probaVector"
      ],
      "execution_count": null,
      "outputs": []
    },
    {
      "cell_type": "markdown",
      "metadata": {
        "id": "_ni4gEdu0jdI"
      },
      "source": [
        "**Punto 3: Función de coste.**\n",
        "\n",
        "La función de coste para la regresión logística trata de determinar el error entre el valor estimado y el valor real en el modelo. Esta función está dada por la siguiente ecuación:\n",
        "\n",
        "$$ J(\\theta(z), y, \\theta) = - [\\sum_{i=1}^{m}(y^{(i)}\\log{\\phi(z)} + (1 - y^{i})\\log{(1- \\phi(z))}] $$\n",
        "\n",
        "A continuación un ejemplo de programación para la función de coste:"
      ]
    },
    {
      "cell_type": "code",
      "metadata": {
        "id": "lXWqQ0wDwCgh"
      },
      "source": [
        "def funCoste(features, labels, proba):\n",
        "  J = 0\n",
        "  for i in range(len(proba)):\n",
        "    J = J + labels[i]*np.log(proba[i]) + (1 - labels[i])*np.log(1 - proba[i])\n",
        "  return -J"
      ],
      "execution_count": null,
      "outputs": []
    },
    {
      "cell_type": "markdown",
      "metadata": {
        "id": "iMnQff7e8Uoo"
      },
      "source": [
        "**Punto 4: AUC y curva ROC**\n",
        "\n",
        "La curva ROC y el AUC son métricas que dicen que tan bueno es un modelo haciendo uso de la TPR(Tasa de verdadera aceptación) y la FPR(Tasa de falsa aceptación), las cuales se calculan a través de la sensibilidad y especificidad.\n",
        "\n",
        "A continuación se presenta un ejemplo de programación para el cálculo de la curva ROC y el área bajo la curva AUC."
      ]
    },
    {
      "cell_type": "code",
      "metadata": {
        "id": "qAPqifEr8S9d"
      },
      "source": [
        "#Dibujar curva ROC y retornar valor del AUC\n",
        "def ROC(labels, proba):        \n",
        "    #Se ordenan los scores de mayor a menor.\n",
        "    labelsOrdenado, scores, sensibilidad, especificidad, FPR = [], [], [], [], []    \n",
        "    probaOrdenado = np.flipud(np.argsort(proba))    \n",
        "    for i in probaOrdenado:\n",
        "        labelsOrdenado.append(labels[i])\n",
        "        scores.append(proba[i])        \n",
        "    \n",
        "    #Se llenan las listas de sensibilidad y especificidad.         \n",
        "    denomSensi = labels.count(1)\n",
        "    denomEspec = labels.count(0)\n",
        "    unos, ceros = 0, denomEspec     \n",
        "    for i in range(len(labelsOrdenado)):\n",
        "        if (denomSensi == 0):\n",
        "          denomSensi = 1\n",
        "        if (denomEspec == 0):\n",
        "          denomEspec = 1\n",
        "        sensibilidad.append(unos/denomSensi)    \n",
        "        especificidad.append(ceros/denomEspec)                    \n",
        "        if (labelsOrdenado[i] == 1):\n",
        "            unos+=1   \n",
        "        elif (labelsOrdenado[i] == 0):\n",
        "            ceros-=1                             \n",
        "\n",
        "    especificidad[len(especificidad) - 1] = 0\n",
        "    #Calcular TPR\n",
        "    for i in especificidad:\n",
        "        FPR.append(1 - i)\n",
        "    TPR = sensibilidad    \n",
        "    \n",
        "    plt.scatter(FPR, TPR)\n",
        "    plt.plot(FPR, TPR)\n",
        "    plt.title(\"Curva ROC\")\n",
        "    plt.xlabel(\"FPR\")\n",
        "    plt.ylabel(\"TPR\")\n",
        "        \n",
        "    return FPR, TPR"
      ],
      "execution_count": null,
      "outputs": []
    },
    {
      "cell_type": "code",
      "metadata": {
        "colab": {
          "base_uri": "https://localhost:8080/",
          "height": 332
        },
        "id": "OKiMsOpIG3mV",
        "outputId": "f45d93e3-1047-4809-f44c-95a8543d3059"
      },
      "source": [
        "labels = [1, 0, 1, 1, 0, 1, 0, 0, 1, 0]\n",
        "proba = [0.98, 0.53, 0.53, 0.48, 0.47, 0.73, 0.61, 0.34, 0.8, 0.18]\n",
        "\n",
        "FPR, TPR = ROC(labels, proba)\n",
        "print(\"FPR: \", FPR)\n",
        "print(\"TPR: \", TPR)"
      ],
      "execution_count": null,
      "outputs": [
        {
          "output_type": "stream",
          "name": "stdout",
          "text": [
            "FPR:  [0.0, 0.0, 0.0, 0.0, 0.19999999999999996, 0.19999999999999996, 0.4, 0.4, 0.6, 1]\n",
            "TPR:  [0.0, 0.2, 0.4, 0.6, 0.6, 0.8, 0.8, 1.0, 1.0, 1.0]\n"
          ]
        },
        {
          "output_type": "display_data",
          "data": {
            "image/png": "[encoded data removed]",
            "text/plain": [
              "<Figure size 432x288 with 1 Axes>"
            ]
          },
          "metadata": {
            "needs_background": "light"
          }
        }
      ]
    },
    {
      "cell_type": "markdown",
      "metadata": {
        "id": "LSRivBX0JSPo"
      },
      "source": [
        "**Punto 5:**"
      ]
    },
    {
      "cell_type": "code",
      "metadata": {
        "colab": {
          "base_uri": "https://localhost:8080/"
        },
        "id": "RBARxdYJJYdW",
        "outputId": "165b9d46-0297-4d32-eedf-4ab8e8da6c80"
      },
      "source": [
        "from google.colab import drive\n",
        "drive.mount('/content/drive')"
      ],
      "execution_count": null,
      "outputs": [
        {
          "output_type": "stream",
          "name": "stdout",
          "text": [
            "Drive already mounted at /content/drive; to attempt to forcibly remount, call drive.mount(\"/content/drive\", force_remount=True).\n"
          ]
        }
      ]
    },
    {
      "cell_type": "code",
      "metadata": {
        "id": "MZlkw3x4KWHe"
      },
      "source": [
        "#Descripción: Función encargada de dividir entre train y test además de aplicar estandarización a la matriz de características.\n",
        "def estandarizar(paramEstandarizacion, features, labels, test_size):\n",
        "    X_train, X_test, y_train, y_test = train_test_split(features, labels, test_size = test_size, random_state = 4)    \n",
        "    #Estandarización Min-Max.\n",
        "    if (paramEstandarizacion == 1):\n",
        "        for feature in range(X_train.shape[1]):\n",
        "            xx = X_train[: , feature]\n",
        "            x_min = xx.min()\n",
        "            x_max = xx.max()        \n",
        "            for i in range(len(X_train)):\n",
        "                X_train[i , feature] = (X_train[i , feature] - x_min)/(x_max - x_min)  \n",
        "            for i in range(len(X_test)):\n",
        "                X_test[i , feature] = (X_test[i , feature] - x_min)/(x_max - x_min)    \n",
        "    #Estandarización Z-score.    \n",
        "    elif (paramEstandarizacion == 2):\n",
        "        for feature in range(X_train.shape[1]):\n",
        "            xx = X_train[: , feature]            \n",
        "            mean = np.mean(xx)\n",
        "            std = np.std(xx)\n",
        "            for i in range(len(X_train)):\n",
        "                X_train[i , feature] = (X_train[i , feature] - mean)/std  \n",
        "            for i in range(len(X_test)):\n",
        "                X_test[i , feature] = (X_test[i , feature] - mean)/std    \n",
        "    return X_train, X_test, y_train, y_test"
      ],
      "execution_count": null,
      "outputs": []
    },
    {
      "cell_type": "code",
      "metadata": {
        "id": "X8TDJC7LYQTC"
      },
      "source": [
        "#Descipción: Función encargada de graficar la matriz de confusión.\n",
        "def Matriz_plt(conf_Matrix, numClases):\n",
        "  axis=np.arange(numClases+1)\n",
        "  sb.heatmap(conf_Matrix, center=0, annot=True, fmt=\".2f\",\n",
        "             cmap=\"YlGnBu\", linewidths=.5, cbar=True, \n",
        "             xticklabels=axis, yticklabels=axis);               \n",
        "  plt.title(\"Confusion Matrix\")\n",
        "  plt.xlabel('Predicciones')\n",
        "  plt.ylabel('Real')"
      ],
      "execution_count": null,
      "outputs": []
    },
    {
      "cell_type": "code",
      "metadata": {
        "id": "daYm_Di3YZ-E"
      },
      "source": [
        "#Descripción: Función encargada de calcular las métricas de desempeño.\n",
        "def metrics(yreal, ypred, plotMatriz):\n",
        "  xx = []\n",
        "  xx.append(int(np.max(yreal)))\n",
        "  xx.append(int(np.max(ypred)))\n",
        "  numClases = max(xx)  \n",
        "  acc=0\n",
        "\n",
        "  conf_Matrix = np.zeros((numClases+1,numClases+1))\n",
        "  rec=np.zeros(numClases+1)\n",
        "  pre=np.zeros(numClases+1)\n",
        "  f1=np.zeros(numClases+1)\n",
        "  for i in range(len(yreal)):\n",
        "    y = int (ypred[i])\n",
        "    x = int (yreal[i])\n",
        "    aux = conf_Matrix[x,y]\n",
        "    conf_Matrix[x,y] = aux + 1\n",
        "  \n",
        "  if (plotMatriz):\n",
        "    Matriz_plt(conf_Matrix, numClases)\n",
        "  \n",
        "  for i in range(len(conf_Matrix)):\n",
        "    rec[i] = conf_Matrix[i,i]/np.sum(conf_Matrix[i,:])    \n",
        "  \n",
        "  for i in range(len(conf_Matrix)):\n",
        "    pre[i] = conf_Matrix[i][i]/sum(conf_Matrix[:,i])      \n",
        "  \n",
        "  acc = np.diagonal(conf_Matrix).sum()/np.sum(conf_Matrix)  \n",
        "\n",
        "  for i in range(len(rec)):\n",
        "    f1[i]=2*(pre[i]*rec[i])/(pre[i]+rec[i])    \n",
        "  \n",
        "  return acc, pre, rec, f1"
      ],
      "execution_count": null,
      "outputs": []
    },
    {
      "cell_type": "code",
      "metadata": {
        "id": "pTxeVy_UKo7l"
      },
      "source": [
        "def regresionLogistica(features, labels, paramEstandarizacion):      \n",
        "  #Estandarizar la matriz de características.\n",
        "  X_train, X_test, y_train, y_test = estandarizar(paramEstandarizacion, features, labels, 0.2)    \n",
        "  #llamado a función de gradiente descendente.      \n",
        "  parametros = graDesc(X_train, y_train, 0.01, 1000)\n",
        "  #Evaluar Modelo    \n",
        "  vectorProba = evaluarModelo(X_test, parametros)  \n",
        "  ROC(y_test, vectorProba)"
      ],
      "execution_count": null,
      "outputs": []
    }
  ]
}