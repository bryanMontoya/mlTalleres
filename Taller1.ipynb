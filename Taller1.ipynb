{
  "nbformat": 4,
  "nbformat_minor": 0,
  "metadata": {
    "colab": {
      "name": "Taller1.ipynb",
      "provenance": [],
      "collapsed_sections": [],
      "include_colab_link": true
    },
    "kernelspec": {
      "display_name": "Python 3",
      "name": "python3"
    },
    "language_info": {
      "name": "python"
    }
  },
  "cells": [
    {
      "cell_type": "markdown",
      "metadata": {
        "id": "view-in-github",
        "colab_type": "text"
      },
      "source": [
        "<a href=\"https://colab.research.google.com/github/bryanMontoya/mlTalleres/blob/main/Taller1.ipynb\" target=\"_parent\"><img src=\"https://colab.research.google.com/assets/colab-badge.svg\" alt=\"Open In Colab\"/></a>"
      ]
    },
    {
      "cell_type": "markdown",
      "metadata": {
        "id": "EXcclVe-vHK0"
      },
      "source": [
        "# **Taller 1**\n",
        "- Johjan Stiven Puerta Castaño\n",
        "- Brayan Montoya Osorio\n"
      ]
    },
    {
      "cell_type": "code",
      "metadata": {
        "colab": {
          "background_save": true
        },
        "id": "BsFQq0O9gScO"
      },
      "source": [
        "#Sección de importación de librerías.\n",
        "import numpy as np\n",
        "import random\n",
        "from sklearn.datasets import load_diabetes\n",
        "from sklearn.model_selection import train_test_split"
      ],
      "execution_count": null,
      "outputs": []
    },
    {
      "cell_type": "markdown",
      "metadata": {
        "id": "sqntjfmnvV_O"
      },
      "source": [
        "**Función de coste:**"
      ]
    },
    {
      "cell_type": "code",
      "metadata": {
        "id": "tZ-1FY24vVKm"
      },
      "source": [
        "#Descripción: Función encargada de calcular el error cuadrático medio. Recibe como parámetros la matriz de características, etiquetas y parámetros.\n",
        "def funcionCoste(features, labels, parametros):          \n",
        "  funCoste = 0\n",
        "  parametros = np.array(parametros)  \n",
        "  for i in range(len(features)):        \n",
        "    feature = np.append([1], features[i])                   \n",
        "    funCoste = funCoste + (sum((parametros*feature)) - labels[i])**2    \n",
        "  funCoste = funCoste/(2*len(features))\n",
        "  return funCoste"
      ],
      "execution_count": 31,
      "outputs": []
    },
    {
      "cell_type": "markdown",
      "metadata": {
        "id": "ODQDelFswMIv"
      },
      "source": [
        "**Gradiente decendente:**\n",
        "\n",
        "Se calcula el modelo con los parámetros actuales:"
      ]
    },
    {
      "cell_type": "code",
      "metadata": {
        "colab": {
          "background_save": true
        },
        "id": "lpZHgXvLwLmY"
      },
      "source": [
        "def modelo(Caracter,i, param):     # i --> i-ecima muestra\n",
        "  m, Tcarac = np.shape(Caracter)\n",
        "  x = [1]\n",
        "  for j in range(Tcarac):\n",
        "    x.append(Caracter[i,j])  # x --> Vector con el valor de una muestra para cada característica\n",
        "  return np.sum(np.transpose(param)*x)   # Retorna la predicción de la i-ecima muestra y x"
      ],
      "execution_count": null,
      "outputs": []
    },
    {
      "cell_type": "markdown",
      "metadata": {
        "id": "A0mw_EABwnTu"
      },
      "source": [
        "La siguiente función calcula la derivada parcial, necesaria para implementar el gradiente decendente:"
      ]
    },
    {
      "cell_type": "code",
      "metadata": {
        "colab": {
          "background_save": true
        },
        "id": "FK61UTPIwUq3"
      },
      "source": [
        "def derParc(mod , X, y, m, t, j):   # mod --> Modelo actual (predicción)  X --> Características   y --> etiquetas   m --> N° muestras     t --> parámetros\n",
        "  aux = np.zeros(shape = m)\n",
        "  for i in range(m):\n",
        "    aux[i] = (mod -y[i])*X[i,j]\n",
        "  return (1/m)*(np.sum(aux))"
      ],
      "execution_count": null,
      "outputs": []
    },
    {
      "cell_type": "markdown",
      "metadata": {
        "id": "hCLWLAfTw1IW"
      },
      "source": [
        "Se calcula el gradiente haciendo uso de las funciones anteriores. Esta función retorna un vector con los valores de los parámetros dependiendo del número de iteraciones y la velocidad de aprendizaje ingresados por el usuario."
      ]
    },
    {
      "cell_type": "code",
      "metadata": {
        "colab": {
          "background_save": true
        },
        "id": "rYJybkrQwXcg"
      },
      "source": [
        "def gradDec(X_train, y_train, alpha, itera):     # dataSetX --> Características   dataSety --> Etiquetas\n",
        "                                                              # alpha --> Learning rate    itera --> N° iteraciones\n",
        "  m, Tcarac = np.shape(X_train)\n",
        "  t = [random.uniform(-10,10)]\n",
        "  for _ in range(Tcarac):\n",
        "    t.append(random.uniform(-10,10))   # Se generan los valores aleatorios iniciales para los parámetros\n",
        "  \n",
        "  for _ in range(itera):\n",
        "    for i in range(Tcarac):\n",
        "      mode = modelo(X_train, i, t)\n",
        "      der = derParc(mode, X_train, y_train, m, t, i)\n",
        "      t[i] = t[i]-alpha*der  \n",
        "  return t"
      ],
      "execution_count": null,
      "outputs": []
    },
    {
      "cell_type": "markdown",
      "metadata": {
        "id": "qdVtfVUzxvsm"
      },
      "source": [
        "**Estandarización min-max y Z-score:**\n",
        "\n",
        "Se implementan dos tipos de estandarización. Para escoger la estandarización que se desee, basta con modificar el valor del parámetro \"paramEstandarizacion\": 1 para Min-Max y 2 para Z-score, otro para no realizar estandarización."
      ]
    },
    {
      "cell_type": "code",
      "metadata": {
        "colab": {
          "background_save": true
        },
        "id": "VBvHFaGLx5jB"
      },
      "source": [
        "#Descripción: Función encargada de dividir entre train y test además de aplicar estandarización a la matriz de características.\n",
        "def estandarizar(paramEstandarizacion, features, labels, test_size):\n",
        "    X_train, X_test, y_train, y_test = train_test_split(features, labels, test_size = test_size, random_state = 4)    \n",
        "    #Estandarización Min-Max.\n",
        "    if (paramEstandarizacion == 1):\n",
        "        for feature in range(X_train.shape[1]):\n",
        "            xx = X_train[: , feature]\n",
        "            x_min = xx.min()\n",
        "            x_max = xx.max()        \n",
        "            for i in range(len(X_train)):\n",
        "                X_train[i , feature] = (X_train[i , feature] - x_min)/(x_max - x_min)  \n",
        "            for i in range(len(X_test)):\n",
        "                X_test[i , feature] = (X_test[i , feature] - x_min)/(x_max - x_min)    \n",
        "    #Estandarización Z-score.    \n",
        "    elif (paramEstandarizacion == 2):\n",
        "        for feature in range(X_train.shape[1]):\n",
        "            xx = X_train[: , feature]            \n",
        "            mean = np.mean(xx)\n",
        "            std = np.std(xx)\n",
        "            for i in range(len(X_train)):\n",
        "                X_train[i , feature] = (X_train[i , feature] - mean)/std  \n",
        "            for i in range(len(X_test)):\n",
        "                X_test[i , feature] = (X_test[i , feature] - mean)/std    \n",
        "    return X_train, X_test, y_train, y_test"
      ],
      "execution_count": null,
      "outputs": []
    },
    {
      "cell_type": "markdown",
      "metadata": {
        "id": "M5Ku2JfDy3e0"
      },
      "source": [
        "**Transformación de características:**\n",
        "\n",
        "Se pueden realizar tres transformaciones, sólo se debe cambiar el parámetro \"trans\". Si no se desea ninguna tranformación el valor es 0 ,para $X^2$ corresponde el valor 1, para $e^X$ el valor 2 y para $\\sqrt{x}$ el valor 3. Si hay un valor negativo dentro de los datos, no se puede realizar la transformación de la raiz cuadrada."
      ]
    },
    {
      "cell_type": "code",
      "metadata": {
        "colab": {
          "background_save": true
        },
        "id": "tQ9O4G06y-vc"
      },
      "source": [
        "#Descripción: Función encargada de realizar la transformación de caracteísticas.\n",
        "def transCarac(dataSetX, trans):\n",
        "  m, n = np.shape(dataSetX)\n",
        "  \n",
        "  if trans == 0:\n",
        "    aux = dataSetX\n",
        "\n",
        "  elif trans == 1:\n",
        "    aux = np.zeros(shape=(m,n))\n",
        "    for j in range(n):\n",
        "      for i in range(m):\n",
        "        aux[i,j] = dataSetX[i,j]**2\n",
        "    aux = np.concatenate((dataSetX,aux), axis=1)\n",
        "\n",
        "  elif trans == 2:\n",
        "    aux = np.zeros(shape=(m,n))\n",
        "    for j in range(n):\n",
        "      for i in range(m):\n",
        "        aux[i,j] = np.exp(dataSetX[i,j])\n",
        "\n",
        "  elif trans == 3:\n",
        "    if np.amin(dataSetX) >= 0:\n",
        "      aux = np.zeros(shape=(m,n))\n",
        "      for j in range(n):\n",
        "        for i in range(m):\n",
        "          aux[i,j] = dataSetX[i,j]**(1/2)\n",
        "\n",
        "    else:\n",
        "      aux = \"No es posible realizar la transformación. Hay valores negativos.\"\n",
        "  return aux"
      ],
      "execution_count": null,
      "outputs": []
    },
    {
      "cell_type": "markdown",
      "metadata": {
        "id": "Gxf31jaO0Fl8"
      },
      "source": [
        "**Implementación del modelo de regresión lineal:**\n",
        "\n",
        "Se hace uso de las funciones anteriormente creadas, junto con el dataset de diabetes de la librería sklearn. Se pueden modificar hiperparámetros del modelo como la velocidad de aprendizaje, y el número de iteraciones."
      ]
    },
    {
      "cell_type": "code",
      "metadata": {
        "colab": {
          "base_uri": "https://localhost:8080/"
        },
        "id": "7Hm9DtYt0LZU",
        "outputId": "e2367a1c-00fa-419f-e5dc-1c7ff8c5189b"
      },
      "source": [
        "diabetes_X, diabetes_y = load_diabetes(return_X_y=True)\n",
        "transformacion = 0  # Tipo de transformación a realizar: x**2, e^x y sqrt(x).\n",
        "estandar = 2        # Tipo de estandarización. 1 para min-max, 2 para z-score.\n",
        "alpha = 0.001       # Velocidad de aprendizaje.\n",
        "iteraciones = 10000 # Cantidad de iteraciones.\n",
        "\n",
        "X_transf = transCarac(diabetes_X,trans=transformacion)\n",
        "X_train, X_test, y_train, y_test = estandarizar(estandar, X_transf, diabetes_y, test_size = 0.2)\n",
        "t = gradDec(X_train, y_train, alpha, iteraciones)\n",
        "print(\"Vector de parámetros calculados:\",t)\n",
        "J = funcionCoste(diabetes_X, diabetes_y, t)\n",
        "print(\"Error cuadrático medio:\", J)"
      ],
      "execution_count": 32,
      "outputs": [
        {
          "output_type": "stream",
          "text": [
            "Vector de parámetros calculados: [169.41251392180143, 21.636609405732145, 443.5905962744573, 362.7211760356833, 176.17778606108521, 136.31194753929617, -313.50435721817865, 353.2163945158, 444.3561670094873, 281.05161715229406, -8.243868815696185]\n",
            "Error cuadrático medio: 2247.0293395541607\n"
          ],
          "name": "stdout"
        }
      ]
    },
    {
      "cell_type": "markdown",
      "metadata": {
        "id": "7mToglS-AchK"
      },
      "source": [
        "**Regresión lineal sin usar machine learning:**"
      ]
    },
    {
      "cell_type": "code",
      "metadata": {
        "id": "PklutN-qAhRL"
      },
      "source": [
        "#Descripción: Función encargada de calcular el vector de parámetros para el conjunto de características sin usar machine learning.\n",
        "def linearReg(X_train, y_train):    \n",
        "  X_train_t = np.transpose(X_train)\n",
        "  parameters = np.dot(np.dot(np.linalg.inv((np.dot(X_train_t, X_train))), X_train_t), y_train)\n",
        "  return parameters\n",
        "\n",
        "#Descripción: Función encargada de añadir una columna de unos a la matriz de características.\n",
        "def addColumns(X_train):\n",
        "  filas,c = X_train.shape\n",
        "  xx = np.ones((filas, c + 1)) \n",
        "  for fila in range(filas):\n",
        "    xx[fila] = np.append(1, X_train[fila])\n",
        "  return xx"
      ],
      "execution_count": 33,
      "outputs": []
    },
    {
      "cell_type": "code",
      "metadata": {
        "colab": {
          "base_uri": "https://localhost:8080/"
        },
        "id": "L2f53gfrAm7w",
        "outputId": "e91d1dc6-abbc-4967-d85f-e23eea24314a"
      },
      "source": [
        "print(\"Vector de parámetros calculados sin usar machine learning: \", linearReg(addColumns(X_train), y_train))"
      ],
      "execution_count": 34,
      "outputs": [
        {
          "output_type": "stream",
          "text": [
            "Vector de parámetros calculados sin usar machine learning:  [151.63172805   1.57877308 -13.87492156  23.1625913   17.73916692\n",
            " -45.27597611  27.5074988   11.03361289  13.59655962  39.31814162\n",
            "   1.76796595]\n"
          ],
          "name": "stdout"
        }
      ]
    }
  ]
}