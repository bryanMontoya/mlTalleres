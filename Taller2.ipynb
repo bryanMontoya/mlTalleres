{
  "nbformat": 4,
  "nbformat_minor": 0,
  "metadata": {
    "colab": {
      "name": "Taller2.ipynb",
      "provenance": [],
      "collapsed_sections": [],
      "include_colab_link": true
    },
    "kernelspec": {
      "name": "python3",
      "display_name": "Python 3"
    },
    "language_info": {
      "name": "python"
    }
  },
  "cells": [
    {
      "cell_type": "markdown",
      "metadata": {
        "id": "view-in-github",
        "colab_type": "text"
      },
      "source": [
        "<a href=\"https://colab.research.google.com/github/bryanMontoya/mlTalleres/blob/main/Taller2.ipynb\" target=\"_parent\"><img src=\"https://colab.research.google.com/assets/colab-badge.svg\" alt=\"Open In Colab\"/></a>"
      ]
    },
    {
      "cell_type": "markdown",
      "metadata": {
        "id": "U-mK8IptYaXm"
      },
      "source": [
        "Talle 2 machine learning:\n",
        "- Johjan Stiven Puerta Castaño\n",
        "- Brayan Montoya Osorio"
      ]
    },
    {
      "cell_type": "code",
      "metadata": {
        "id": "psakcgaGAQ_B"
      },
      "source": [
        "#Sección de importación de librerías.\n",
        "import numpy as np\n",
        "import random\n",
        "import statistics\n",
        "import matplotlib.pyplot as plt\n",
        "import seaborn as sb\n",
        "import pandas as pd\n",
        "from statistics import mode\n",
        "from sklearn.datasets import load_diabetes\n",
        "from sklearn.model_selection import train_test_split"
      ],
      "execution_count": 366,
      "outputs": []
    },
    {
      "cell_type": "code",
      "metadata": {
        "id": "eed45W9NAwOV",
        "colab": {
          "base_uri": "https://localhost:8080/",
          "height": 363
        },
        "outputId": "abb0f39f-6867-4ab2-9ff5-312b744461fd"
      },
      "source": [
        "path = 'drive/MyDrive/reviews_sentiment.csv'\n",
        "dataframe = pd.read_csv(path , sep = ';')\n",
        "X = dataframe[['wordcount','sentimentValue']].values \n",
        "y = dataframe['Star Rating'].values \n",
        "dataframe.head(10)"
      ],
      "execution_count": 367,
      "outputs": [
        {
          "output_type": "execute_result",
          "data": {
            "text/html": [
              "<div>\n",
              "<style scoped>\n",
              "    .dataframe tbody tr th:only-of-type {\n",
              "        vertical-align: middle;\n",
              "    }\n",
              "\n",
              "    .dataframe tbody tr th {\n",
              "        vertical-align: top;\n",
              "    }\n",
              "\n",
              "    .dataframe thead th {\n",
              "        text-align: right;\n",
              "    }\n",
              "</style>\n",
              "<table border=\"1\" class=\"dataframe\">\n",
              "  <thead>\n",
              "    <tr style=\"text-align: right;\">\n",
              "      <th></th>\n",
              "      <th>Review Title</th>\n",
              "      <th>Review Text</th>\n",
              "      <th>wordcount</th>\n",
              "      <th>titleSentiment</th>\n",
              "      <th>textSentiment</th>\n",
              "      <th>Star Rating</th>\n",
              "      <th>sentimentValue</th>\n",
              "    </tr>\n",
              "  </thead>\n",
              "  <tbody>\n",
              "    <tr>\n",
              "      <th>0</th>\n",
              "      <td>Sin conexión</td>\n",
              "      <td>Hola desde hace algo más de un mes me pone sin...</td>\n",
              "      <td>23</td>\n",
              "      <td>negative</td>\n",
              "      <td>negative</td>\n",
              "      <td>1</td>\n",
              "      <td>-0.486389</td>\n",
              "    </tr>\n",
              "    <tr>\n",
              "      <th>1</th>\n",
              "      <td>faltan cosas</td>\n",
              "      <td>Han mejorado la apariencia pero no</td>\n",
              "      <td>20</td>\n",
              "      <td>negative</td>\n",
              "      <td>negative</td>\n",
              "      <td>1</td>\n",
              "      <td>-0.586187</td>\n",
              "    </tr>\n",
              "    <tr>\n",
              "      <th>2</th>\n",
              "      <td>Es muy buena lo recomiendo</td>\n",
              "      <td>Andres e puto amoooo</td>\n",
              "      <td>4</td>\n",
              "      <td>NaN</td>\n",
              "      <td>negative</td>\n",
              "      <td>1</td>\n",
              "      <td>-0.602240</td>\n",
              "    </tr>\n",
              "    <tr>\n",
              "      <th>3</th>\n",
              "      <td>Version antigua</td>\n",
              "      <td>Me gustana mas la version anterior esta es mas...</td>\n",
              "      <td>17</td>\n",
              "      <td>NaN</td>\n",
              "      <td>negative</td>\n",
              "      <td>1</td>\n",
              "      <td>-0.616271</td>\n",
              "    </tr>\n",
              "    <tr>\n",
              "      <th>4</th>\n",
              "      <td>Esta bien</td>\n",
              "      <td>Sin ser la biblia.... Esta bien</td>\n",
              "      <td>6</td>\n",
              "      <td>negative</td>\n",
              "      <td>negative</td>\n",
              "      <td>1</td>\n",
              "      <td>-0.651784</td>\n",
              "    </tr>\n",
              "    <tr>\n",
              "      <th>5</th>\n",
              "      <td>Buena</td>\n",
              "      <td>Nada del otro mundo pero han mejorado mucho</td>\n",
              "      <td>8</td>\n",
              "      <td>positive</td>\n",
              "      <td>negative</td>\n",
              "      <td>1</td>\n",
              "      <td>-0.720443</td>\n",
              "    </tr>\n",
              "    <tr>\n",
              "      <th>6</th>\n",
              "      <td>De gran ayuda</td>\n",
              "      <td>Lo malo q necesita de …,pero la app es muy buena</td>\n",
              "      <td>23</td>\n",
              "      <td>positive</td>\n",
              "      <td>negative</td>\n",
              "      <td>1</td>\n",
              "      <td>-0.726825</td>\n",
              "    </tr>\n",
              "    <tr>\n",
              "      <th>7</th>\n",
              "      <td>Muy buena</td>\n",
              "      <td>Estaba más acostumbrado al otro diseño, pero e...</td>\n",
              "      <td>16</td>\n",
              "      <td>positive</td>\n",
              "      <td>negative</td>\n",
              "      <td>1</td>\n",
              "      <td>-0.736769</td>\n",
              "    </tr>\n",
              "    <tr>\n",
              "      <th>8</th>\n",
              "      <td>Ta to guapa.</td>\n",
              "      <td>Va de escándalo</td>\n",
              "      <td>21</td>\n",
              "      <td>positive</td>\n",
              "      <td>negative</td>\n",
              "      <td>1</td>\n",
              "      <td>-0.765284</td>\n",
              "    </tr>\n",
              "    <tr>\n",
              "      <th>9</th>\n",
              "      <td>Se han corregido</td>\n",
              "      <td>Han corregido muchos fallos pero el diseño es ...</td>\n",
              "      <td>13</td>\n",
              "      <td>negative</td>\n",
              "      <td>negative</td>\n",
              "      <td>1</td>\n",
              "      <td>-0.797961</td>\n",
              "    </tr>\n",
              "  </tbody>\n",
              "</table>\n",
              "</div>"
            ],
            "text/plain": [
              "                 Review Title  ... sentimentValue\n",
              "0                Sin conexión  ...      -0.486389\n",
              "1                faltan cosas  ...      -0.586187\n",
              "2  Es muy buena lo recomiendo  ...      -0.602240\n",
              "3             Version antigua  ...      -0.616271\n",
              "4                   Esta bien  ...      -0.651784\n",
              "5                       Buena  ...      -0.720443\n",
              "6               De gran ayuda  ...      -0.726825\n",
              "7                   Muy buena  ...      -0.736769\n",
              "8                Ta to guapa.  ...      -0.765284\n",
              "9            Se han corregido  ...      -0.797961\n",
              "\n",
              "[10 rows x 7 columns]"
            ]
          },
          "metadata": {},
          "execution_count": 367
        }
      ]
    },
    {
      "cell_type": "markdown",
      "metadata": {
        "id": "bLXwXdgqoUNi"
      },
      "source": [
        "# **Punto 1**"
      ]
    },
    {
      "cell_type": "code",
      "metadata": {
        "id": "c-bobcTi8Hll"
      },
      "source": [
        "#Descripcion: Función encargada de calcular la distancia minkowsky 'p' de una muestra dada, a un número determinado de vecinos.     \n",
        "def calculateMinkowsky(p, sampleList, featuresMatrix, labels):    \n",
        "  distances, labelsSorted, minkowskySorted = [],[],[]  \n",
        "  for feature in featuresMatrix:    \n",
        "    minkowsky = 0\n",
        "    for i in range(len(sampleList)):\n",
        "      minkowsky += (abs(sampleList[i] - feature[i]))**p      \n",
        "    minkowsky = (minkowsky)**(1/p)\n",
        "    distances.append(minkowsky)        \n",
        "       \n",
        "  distancesLabelsSorted = dict(zip(distances, labels))\n",
        "  distances = sorted(distances)  \n",
        "  for d in distances:\n",
        "    labelsSorted.append(distancesLabelsSorted[d])\n",
        "  minkowskySorted = list(zip(distances, labelsSorted))\n",
        "  return minkowskySorted"
      ],
      "execution_count": 368,
      "outputs": []
    },
    {
      "cell_type": "code",
      "metadata": {
        "id": "DpN5CTFrnA2m",
        "colab": {
          "base_uri": "https://localhost:8080/"
        },
        "outputId": "e484754c-c343-4ece-db86-f64c05ebd85c"
      },
      "source": [
        "print('Minkowsky/ Etiqueta')\n",
        "matrix = (calculateMinkowsky(p = 2, sampleList = np.array([1,2,3]), featuresMatrix = np.array([[0,1,5],[0,6,70],[3,3,3],[3,4.5,-2],[4,-5,-4.5],[-2,5,0],[5.25,0,0]]), labels = np.array([1,2,3,4,5,2,0])))\n",
        "for m in matrix:\n",
        "  print(m)"
      ],
      "execution_count": 369,
      "outputs": [
        {
          "output_type": "stream",
          "text": [
            "Minkowsky/ Etiqueta\n",
            "(2.23606797749979, 3)\n",
            "(2.449489742783178, 1)\n",
            "(5.196152422706632, 2)\n",
            "(5.573374202401989, 0)\n",
            "(5.937171043518958, 4)\n",
            "(10.688779163215974, 5)\n",
            "(67.12674578735364, 2)\n"
          ],
          "name": "stdout"
        }
      ]
    },
    {
      "cell_type": "markdown",
      "metadata": {
        "id": "uleL2AYG0ab3"
      },
      "source": [
        "# **Punto2**"
      ]
    },
    {
      "cell_type": "code",
      "metadata": {
        "id": "QTIFK41IKXtN"
      },
      "source": [
        "def Matriz_plt(conf_Matrix, numClases):\n",
        "  axis=np.arange(numClases+1)\n",
        "  sb.heatmap(conf_Matrix, center=0, annot=True, fmt=\".2f\",\n",
        "             cmap=\"YlGnBu\", linewidths=.5, cbar=True, \n",
        "             xticklabels=axis, yticklabels=axis);               \n",
        "  plt.title(\"Confusion Matrix\")\n",
        "  plt.xlabel('Predicciones')\n",
        "  plt.ylabel('Real')"
      ],
      "execution_count": 370,
      "outputs": []
    },
    {
      "cell_type": "code",
      "metadata": {
        "id": "j_HtgVtE0go5"
      },
      "source": [
        "#Descripción: Función para realizar las métricas de desempeño (recall, presición, F1score y matriz de confusión)\n",
        "def metrics(yreal, ypred, plotMatriz):\n",
        "  xx = []\n",
        "  xx.append(int(np.max(yreal)))\n",
        "  xx.append(int(np.max(ypred)))\n",
        "  numClases = max(xx)  \n",
        "  acc=0\n",
        "\n",
        "  conf_Matrix = np.zeros((numClases+1,numClases+1))\n",
        "  rec=np.zeros(numClases+1)\n",
        "  pre=np.zeros(numClases+1)\n",
        "  f1=np.zeros(numClases+1)\n",
        "  for i in range(len(yreal)):\n",
        "    y = int (ypred[i])\n",
        "    x = int (yreal[i])\n",
        "    aux = conf_Matrix[x,y]\n",
        "    conf_Matrix[x,y] = aux + 1\n",
        "  \n",
        "  if (plotMatriz):\n",
        "    Matriz_plt(conf_Matrix, numClases)\n",
        "  \n",
        "  for i in range(len(conf_Matrix)):\n",
        "    rec[i] = conf_Matrix[i,i]/np.sum(conf_Matrix[i,:])    \n",
        "  \n",
        "  for i in range(len(conf_Matrix)):\n",
        "    pre[i] = conf_Matrix[i][i]/sum(conf_Matrix[:,i])      \n",
        "  \n",
        "  acc = np.diagonal(conf_Matrix).sum()/np.sum(conf_Matrix)  \n",
        "\n",
        "  for i in range(len(rec)):\n",
        "    f1[i]=2*(pre[i]*rec[i])/(pre[i]+rec[i])    \n",
        "  \n",
        "  return acc, pre, rec, f1"
      ],
      "execution_count": 371,
      "outputs": []
    },
    {
      "cell_type": "markdown",
      "metadata": {
        "id": "MpRcSS22odGS"
      },
      "source": [
        "# **Punto 3**"
      ]
    },
    {
      "cell_type": "code",
      "metadata": {
        "id": "ENuZDuGf80Q_"
      },
      "source": [
        "#Descripción: Función encargada de dividir entre train y test además de aplicar estandarización a la matriz de características.\n",
        "def estandarizar(paramEstandarizacion, X_train, X_test):    \n",
        "    #Estandarización Min-Max.\n",
        "    if (paramEstandarizacion == 1):\n",
        "        for feature in range(X_train.shape[1]):\n",
        "            xx = X_train[: , feature]\n",
        "            x_min = xx.min()\n",
        "            x_max = xx.max()        \n",
        "            for i in range(len(X_train)):\n",
        "                X_train[i , feature] = (X_train[i , feature] - x_min)/(x_max - x_min)  \n",
        "            for i in range(len(X_test)):\n",
        "                X_test[i , feature] = (X_test[i , feature] - x_min)/(x_max - x_min)    \n",
        "    #Estandarización Z-score.    \n",
        "    elif (paramEstandarizacion == 2):\n",
        "        for feature in range(X_train.shape[1]):\n",
        "            xx = X_train[: , feature]            \n",
        "            mean = np.mean(xx)\n",
        "            std = np.std(xx)\n",
        "            for i in range(len(X_train)):\n",
        "                X_train[i , feature] = (X_train[i , feature] - mean)/std  \n",
        "            for i in range(len(X_test)):\n",
        "                X_test[i , feature] = (X_test[i , feature] - mean)/std    \n",
        "    return X_train, X_test"
      ],
      "execution_count": 372,
      "outputs": []
    },
    {
      "cell_type": "code",
      "metadata": {
        "id": "P8aO29J37l7_"
      },
      "source": [
        "#Descripción: Función encargada de realizar una predicción para n muestras de test y presentar métricas.\n",
        "def KNN(kNeighbors, X_train, X_test, y_train, y_test, paramEstandarizacion, plotMatriz):\n",
        "  if (kNeighbors > len(X_train)):\n",
        "    return \"El número de vecinos es mayor a la cantidad de muestras de entrenamiento.\"\n",
        "  else:    \n",
        "    X_train, X_test = estandarizar(paramEstandarizacion, X_train, X_test)        \n",
        "    predictedLabels = []\n",
        "    for xx_test in X_test:      \n",
        "      labelsSorted = calculateMinkowsky(p = 2, sampleList = xx_test, featuresMatrix = X_train, labels = y_train)                    \n",
        "      knnLabels = []      \n",
        "      for k in range(kNeighbors):\n",
        "        knnLabels.append(labelsSorted[k][1])      \n",
        "\n",
        "      try:\n",
        "        predictedLabels.append(int(mode(knnLabels)))\n",
        "      except:\n",
        "        predictedLabels.append(int(knnLabels[1]))     \n",
        "    \n",
        "    predictedLabels = np.array(predictedLabels)      \n",
        "    acc, pre, rec, f1 = metrics(y_test, predictedLabels, plotMatriz = plotMatriz)\n",
        "  return acc, pre, rec, f1"
      ],
      "execution_count": 373,
      "outputs": []
    },
    {
      "cell_type": "markdown",
      "metadata": {
        "id": "_1FGz7R6XM5T"
      },
      "source": [
        "### **Punto 4.**"
      ]
    },
    {
      "cell_type": "code",
      "metadata": {
        "id": "gbv8ahrgXR7s"
      },
      "source": [
        "#Descripción: Función encargada de realizar validación cruzada para encontrar un valor de k óptimo. Esta recibe una lista de k para evaluar, los datos de entrenamiento y el número de folds.\n",
        "def crossValidation(kList, data, labels, nFolds, plotMatriz):    \n",
        "  X_train, X_test, y_train, y_test = train_test_split(data, labels, test_size = 0.2, random_state = 4)\n",
        "  promedio = []\n",
        "  for k in kList:\n",
        "    accuracy = []\n",
        "    for nFold in range(nFolds):\n",
        "      #Generar diferentes folder a través del random_state con train_test_split.\n",
        "      X_trainCV, X_testCV, y_trainCV, y_testCV = train_test_split(X_train, y_train, test_size = 0.2, random_state = nFold)    \n",
        "      acc,_,_,_ = KNN(kNeighbors = k, X_train = X_trainCV, X_test = X_testCV, y_train = y_trainCV, y_test = y_testCV, paramEstandarizacion = 1, plotMatriz = plotMatriz)\n",
        "      accuracy.append(acc)             \n",
        "    promedio.append(statistics.mean(accuracy))\n",
        "\n",
        "  return kList[promedio.index(max(promedio))], X_train, X_test, y_train, y_test"
      ],
      "execution_count": 374,
      "outputs": []
    },
    {
      "cell_type": "markdown",
      "metadata": {
        "id": "5EIoB7xhSZdX"
      },
      "source": [
        "# **Punto 5.**"
      ]
    },
    {
      "cell_type": "code",
      "metadata": {
        "id": "egrOPlXxScoS"
      },
      "source": [
        "#Parámetros configurables por el usuario. Una lista de k para probar, y el número de folds que desea.\n",
        "#------------------------------------------\n",
        "#------------------------------------------\n",
        "kList = np.array([4,5,6,7])\n",
        "nFolds = 5\n",
        "#1 para estandarizacion min-max, 2 para estadarizacion z-score, otro para no hacer estandarización.\n",
        "paramEstandarizacion = 1 \n",
        "#------------------------------------------\n",
        "#------------------------------------------"
      ],
      "execution_count": 375,
      "outputs": []
    },
    {
      "cell_type": "code",
      "metadata": {
        "colab": {
          "base_uri": "https://localhost:8080/",
          "height": 864
        },
        "id": "bto-obvbZC36",
        "outputId": "62840497-8417-4ec5-ef11-a6d716fb75b2"
      },
      "source": [
        "#Encontrar la mejor k a través de validación cruzada.\n",
        "bestK, X_train, X_test, y_train, y_test = crossValidation(kList = kList, data = X, labels = y, nFolds = nFolds, plotMatriz = False)\n",
        "acc, pre, rec, f1 = KNN(bestK, X_train, X_test, y_train, y_test, paramEstandarizacion, plotMatriz = True)\n",
        "##--------------------Presentar métricas.------------------\n",
        "print(\"Métricas:\")\n",
        "for i in range(len(pre)):\n",
        "  print(\"Clase\",i)\n",
        "  print(\"Precision : {:.2f}\".format(pre[i]))\n",
        "  print(\"Recall    : {:.2f}\".format(rec[i]))\n",
        "  print(\"F1-Score  : {:.2f}\".format(f1[i]))\n",
        "\n",
        "print(\" \")\n",
        "print(\"Accuracy: {:.2f}\".format(acc*100) + \" %\")\n",
        "print(\" \")\n",
        "\n",
        "print(\"Confusion Matrix:\")"
      ],
      "execution_count": 376,
      "outputs": [
        {
          "output_type": "stream",
          "text": [
            "/usr/local/lib/python3.7/dist-packages/ipykernel_launcher.py:23: RuntimeWarning: invalid value encountered in double_scalars\n",
            "/usr/local/lib/python3.7/dist-packages/ipykernel_launcher.py:26: RuntimeWarning: invalid value encountered in double_scalars\n"
          ],
          "name": "stderr"
        },
        {
          "output_type": "stream",
          "text": [
            "Métricas:\n",
            "Clase 0\n",
            "Precision : nan\n",
            "Recall    : nan\n",
            "F1-Score  : nan\n",
            "Clase 1\n",
            "Precision : 1.00\n",
            "Recall    : 1.00\n",
            "F1-Score  : 1.00\n",
            "Clase 2\n",
            "Precision : 0.50\n",
            "Recall    : 0.67\n",
            "F1-Score  : 0.57\n",
            "Clase 3\n",
            "Precision : 0.94\n",
            "Recall    : 0.88\n",
            "F1-Score  : 0.91\n",
            "Clase 4\n",
            "Precision : 1.00\n",
            "Recall    : 0.50\n",
            "F1-Score  : 0.67\n",
            "Clase 5\n",
            "Precision : 0.86\n",
            "Recall    : 1.00\n",
            "F1-Score  : 0.92\n",
            " \n",
            "Accuracy: 88.46 %\n",
            " \n",
            "Confusion Matrix:\n"
          ],
          "name": "stdout"
        },
        {
          "output_type": "display_data",
          "data": {
            "image/png": "[encoded data removed]",
            "text/plain": [
              "<Figure size 432x288 with 2 Axes>"
            ]
          },
          "metadata": {
            "needs_background": "light"
          }
        }
      ]
    }
  ]
}